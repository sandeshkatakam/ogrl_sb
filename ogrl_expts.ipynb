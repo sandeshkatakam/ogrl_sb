{
 "cells": [
  {
   "cell_type": "code",
   "execution_count": 1,
   "id": "0bfd13cd",
   "metadata": {},
   "outputs": [
    {
     "ename": "NameNotFound",
     "evalue": "Environment `pointmaze-navigate` doesn't exist. Did you mean: `pointmaze-large`?",
     "output_type": "error",
     "traceback": [
      "\u001b[0;31m---------------------------------------------------------------------------\u001b[0m",
      "\u001b[0;31mNameNotFound\u001b[0m                              Traceback (most recent call last)",
      "Cell \u001b[0;32mIn[1], line 5\u001b[0m\n\u001b[1;32m      3\u001b[0m \u001b[38;5;66;03m# Make an environment and datasets (they will be automatically downloaded).\u001b[39;00m\n\u001b[1;32m      4\u001b[0m dataset_name \u001b[38;5;241m=\u001b[39m \u001b[38;5;124m'\u001b[39m\u001b[38;5;124mpointmaze-large-navigate\u001b[39m\u001b[38;5;124m'\u001b[39m\n\u001b[0;32m----> 5\u001b[0m env, train_dataset, val_dataset \u001b[38;5;241m=\u001b[39m \u001b[43mogbench\u001b[49m\u001b[38;5;241;43m.\u001b[39;49m\u001b[43mmake_env_and_datasets\u001b[49m\u001b[43m(\u001b[49m\u001b[43mdataset_name\u001b[49m\u001b[43m)\u001b[49m\n\u001b[1;32m      7\u001b[0m \u001b[38;5;66;03m# Train your offline goal-conditioned RL agent on the dataset.\u001b[39;00m\n\u001b[1;32m      8\u001b[0m \u001b[38;5;66;03m# ...\u001b[39;00m\n\u001b[1;32m      9\u001b[0m \n\u001b[1;32m     10\u001b[0m \u001b[38;5;66;03m# Evaluate the agent.\u001b[39;00m\n\u001b[1;32m     11\u001b[0m \u001b[38;5;28;01mfor\u001b[39;00m task_id \u001b[38;5;129;01min\u001b[39;00m [\u001b[38;5;241m1\u001b[39m, \u001b[38;5;241m2\u001b[39m, \u001b[38;5;241m3\u001b[39m, \u001b[38;5;241m4\u001b[39m, \u001b[38;5;241m5\u001b[39m]:\n\u001b[1;32m     12\u001b[0m     \u001b[38;5;66;03m# Reset the environment and set the evaluation task.\u001b[39;00m\n",
      "File \u001b[0;32m~/Documents/local_github_repos/ogrl_sb/ogrl_sb/lib/python3.9/site-packages/ogbench/utils.py:182\u001b[0m, in \u001b[0;36mmake_env_and_datasets\u001b[0;34m(dataset_name, dataset_dir, dataset_path, compact_dataset, env_only, dataset_only, cur_env, add_info, **env_kwargs)\u001b[0m\n\u001b[1;32m    180\u001b[0m     env_name \u001b[38;5;241m=\u001b[39m \u001b[38;5;124m'\u001b[39m\u001b[38;5;124m-\u001b[39m\u001b[38;5;124m'\u001b[39m\u001b[38;5;241m.\u001b[39mjoin(splits[:\u001b[38;5;241m-\u001b[39m\u001b[38;5;241m2\u001b[39m] \u001b[38;5;241m+\u001b[39m splits[\u001b[38;5;241m-\u001b[39m\u001b[38;5;241m1\u001b[39m:])  \u001b[38;5;66;03m# Remove the dataset type.\u001b[39;00m\n\u001b[1;32m    181\u001b[0m     \u001b[38;5;28;01mif\u001b[39;00m \u001b[38;5;129;01mnot\u001b[39;00m dataset_only:\n\u001b[0;32m--> 182\u001b[0m         env \u001b[38;5;241m=\u001b[39m \u001b[43mgymnasium\u001b[49m\u001b[38;5;241;43m.\u001b[39;49m\u001b[43mmake\u001b[49m\u001b[43m(\u001b[49m\u001b[43menv_name\u001b[49m\u001b[43m,\u001b[49m\u001b[43m \u001b[49m\u001b[38;5;241;43m*\u001b[39;49m\u001b[38;5;241;43m*\u001b[39;49m\u001b[43menv_kwargs\u001b[49m\u001b[43m)\u001b[49m\n\u001b[1;32m    184\u001b[0m \u001b[38;5;28;01mif\u001b[39;00m env_only:\n\u001b[1;32m    185\u001b[0m     \u001b[38;5;28;01mreturn\u001b[39;00m env\n",
      "File \u001b[0;32m~/Documents/local_github_repos/ogrl_sb/ogrl_sb/lib/python3.9/site-packages/gymnasium/envs/registration.py:689\u001b[0m, in \u001b[0;36mmake\u001b[0;34m(id, max_episode_steps, disable_env_checker, **kwargs)\u001b[0m\n\u001b[1;32m    686\u001b[0m     \u001b[38;5;28;01massert\u001b[39;00m \u001b[38;5;28misinstance\u001b[39m(\u001b[38;5;28mid\u001b[39m, \u001b[38;5;28mstr\u001b[39m)\n\u001b[1;32m    688\u001b[0m     \u001b[38;5;66;03m# The environment name can include an unloaded module in \"module:env_name\" style\u001b[39;00m\n\u001b[0;32m--> 689\u001b[0m     env_spec \u001b[38;5;241m=\u001b[39m \u001b[43m_find_spec\u001b[49m\u001b[43m(\u001b[49m\u001b[38;5;28;43mid\u001b[39;49m\u001b[43m)\u001b[49m\n\u001b[1;32m    691\u001b[0m \u001b[38;5;28;01massert\u001b[39;00m \u001b[38;5;28misinstance\u001b[39m(env_spec, EnvSpec)\n\u001b[1;32m    693\u001b[0m \u001b[38;5;66;03m# Update the env spec kwargs with the `make` kwargs\u001b[39;00m\n",
      "File \u001b[0;32m~/Documents/local_github_repos/ogrl_sb/ogrl_sb/lib/python3.9/site-packages/gymnasium/envs/registration.py:533\u001b[0m, in \u001b[0;36m_find_spec\u001b[0;34m(env_id)\u001b[0m\n\u001b[1;32m    527\u001b[0m     logger\u001b[38;5;241m.\u001b[39mwarn(\n\u001b[1;32m    528\u001b[0m         \u001b[38;5;124mf\u001b[39m\u001b[38;5;124m\"\u001b[39m\u001b[38;5;124mUsing the latest versioned environment `\u001b[39m\u001b[38;5;132;01m{\u001b[39;00mnew_env_id\u001b[38;5;132;01m}\u001b[39;00m\u001b[38;5;124m` \u001b[39m\u001b[38;5;124m\"\u001b[39m\n\u001b[1;32m    529\u001b[0m         \u001b[38;5;124mf\u001b[39m\u001b[38;5;124m\"\u001b[39m\u001b[38;5;124minstead of the unversioned environment `\u001b[39m\u001b[38;5;132;01m{\u001b[39;00menv_name\u001b[38;5;132;01m}\u001b[39;00m\u001b[38;5;124m`.\u001b[39m\u001b[38;5;124m\"\u001b[39m\n\u001b[1;32m    530\u001b[0m     )\n\u001b[1;32m    532\u001b[0m \u001b[38;5;28;01mif\u001b[39;00m env_spec \u001b[38;5;129;01mis\u001b[39;00m \u001b[38;5;28;01mNone\u001b[39;00m:\n\u001b[0;32m--> 533\u001b[0m     \u001b[43m_check_version_exists\u001b[49m\u001b[43m(\u001b[49m\u001b[43mns\u001b[49m\u001b[43m,\u001b[49m\u001b[43m \u001b[49m\u001b[43mname\u001b[49m\u001b[43m,\u001b[49m\u001b[43m \u001b[49m\u001b[43mversion\u001b[49m\u001b[43m)\u001b[49m\n\u001b[1;32m    534\u001b[0m     \u001b[38;5;28;01mraise\u001b[39;00m error\u001b[38;5;241m.\u001b[39mError(\n\u001b[1;32m    535\u001b[0m         \u001b[38;5;124mf\u001b[39m\u001b[38;5;124m\"\u001b[39m\u001b[38;5;124mNo registered env with id: \u001b[39m\u001b[38;5;132;01m{\u001b[39;00menv_name\u001b[38;5;132;01m}\u001b[39;00m\u001b[38;5;124m. Did you register it, or import the package that registers it? Use `gymnasium.pprint_registry()` to see all of the registered environments.\u001b[39m\u001b[38;5;124m\"\u001b[39m\n\u001b[1;32m    536\u001b[0m     )\n\u001b[1;32m    538\u001b[0m \u001b[38;5;28;01mreturn\u001b[39;00m env_spec\n",
      "File \u001b[0;32m~/Documents/local_github_repos/ogrl_sb/ogrl_sb/lib/python3.9/site-packages/gymnasium/envs/registration.py:399\u001b[0m, in \u001b[0;36m_check_version_exists\u001b[0;34m(ns, name, version)\u001b[0m\n\u001b[1;32m    396\u001b[0m \u001b[38;5;28;01mif\u001b[39;00m get_env_id(ns, name, version) \u001b[38;5;129;01min\u001b[39;00m registry:\n\u001b[1;32m    397\u001b[0m     \u001b[38;5;28;01mreturn\u001b[39;00m\n\u001b[0;32m--> 399\u001b[0m \u001b[43m_check_name_exists\u001b[49m\u001b[43m(\u001b[49m\u001b[43mns\u001b[49m\u001b[43m,\u001b[49m\u001b[43m \u001b[49m\u001b[43mname\u001b[49m\u001b[43m)\u001b[49m\n\u001b[1;32m    400\u001b[0m \u001b[38;5;28;01mif\u001b[39;00m version \u001b[38;5;129;01mis\u001b[39;00m \u001b[38;5;28;01mNone\u001b[39;00m:\n\u001b[1;32m    401\u001b[0m     \u001b[38;5;28;01mreturn\u001b[39;00m\n",
      "File \u001b[0;32m~/Documents/local_github_repos/ogrl_sb/ogrl_sb/lib/python3.9/site-packages/gymnasium/envs/registration.py:376\u001b[0m, in \u001b[0;36m_check_name_exists\u001b[0;34m(ns, name)\u001b[0m\n\u001b[1;32m    373\u001b[0m namespace_msg \u001b[38;5;241m=\u001b[39m \u001b[38;5;124mf\u001b[39m\u001b[38;5;124m\"\u001b[39m\u001b[38;5;124m in namespace \u001b[39m\u001b[38;5;132;01m{\u001b[39;00mns\u001b[38;5;132;01m}\u001b[39;00m\u001b[38;5;124m\"\u001b[39m \u001b[38;5;28;01mif\u001b[39;00m ns \u001b[38;5;28;01melse\u001b[39;00m \u001b[38;5;124m\"\u001b[39m\u001b[38;5;124m\"\u001b[39m\n\u001b[1;32m    374\u001b[0m suggestion_msg \u001b[38;5;241m=\u001b[39m \u001b[38;5;124mf\u001b[39m\u001b[38;5;124m\"\u001b[39m\u001b[38;5;124m Did you mean: `\u001b[39m\u001b[38;5;132;01m{\u001b[39;00msuggestion[\u001b[38;5;241m0\u001b[39m]\u001b[38;5;132;01m}\u001b[39;00m\u001b[38;5;124m`?\u001b[39m\u001b[38;5;124m\"\u001b[39m \u001b[38;5;28;01mif\u001b[39;00m suggestion \u001b[38;5;28;01melse\u001b[39;00m \u001b[38;5;124m\"\u001b[39m\u001b[38;5;124m\"\u001b[39m\n\u001b[0;32m--> 376\u001b[0m \u001b[38;5;28;01mraise\u001b[39;00m error\u001b[38;5;241m.\u001b[39mNameNotFound(\n\u001b[1;32m    377\u001b[0m     \u001b[38;5;124mf\u001b[39m\u001b[38;5;124m\"\u001b[39m\u001b[38;5;124mEnvironment `\u001b[39m\u001b[38;5;132;01m{\u001b[39;00mname\u001b[38;5;132;01m}\u001b[39;00m\u001b[38;5;124m` doesn\u001b[39m\u001b[38;5;124m'\u001b[39m\u001b[38;5;124mt exist\u001b[39m\u001b[38;5;132;01m{\u001b[39;00mnamespace_msg\u001b[38;5;132;01m}\u001b[39;00m\u001b[38;5;124m.\u001b[39m\u001b[38;5;132;01m{\u001b[39;00msuggestion_msg\u001b[38;5;132;01m}\u001b[39;00m\u001b[38;5;124m\"\u001b[39m\n\u001b[1;32m    378\u001b[0m )\n",
      "\u001b[0;31mNameNotFound\u001b[0m: Environment `pointmaze-navigate` doesn't exist. Did you mean: `pointmaze-large`?"
     ]
    }
   ],
   "source": [
    "import ogbench\n",
    "\n",
    "# Make an environment and datasets (they will be automatically downloaded).\n",
    "dataset_name = 'pointmaze-large-navigate'\n",
    "env, train_dataset, val_dataset = ogbench.make_env_and_datasets(dataset_name)\n",
    "\n",
    "# Train your offline goal-conditioned RL agent on the dataset.\n",
    "# ...\n",
    "\n",
    "# Evaluate the agent.\n",
    "for task_id in [1, 2, 3, 4, 5]:\n",
    "    # Reset the environment and set the evaluation task.\n",
    "    ob, info = env.reset(\n",
    "        options=dict(\n",
    "            task_id=task_id,  # Set the evaluation task. Each environment provides five\n",
    "                              # evaluation goals, and `task_id` must be in [1, 5].\n",
    "            render_goal=True,  # Set to `True` to get a rendered goal image (optional).\n",
    "        )\n",
    "    )\n",
    "\n",
    "    goal = info['goal']  # Get the goal observation to pass to the agent.\n",
    "    goal_rendered = info['goal_rendered']  # Get the rendered goal image (optional).\n",
    "\n",
    "    done = False\n",
    "    while not done:\n",
    "        action = env.action_space.sample()  # Replace this with your agent's action.\n",
    "        ob, reward, terminated, truncated, info = env.step(action)  # Gymnasium-style step.\n",
    "        # If the agent reaches the goal, `terminated` will be `True`. If the episode length\n",
    "        # exceeds the maximum length without reaching the goal, `truncated` will be `True`.\n",
    "        # `reward` is 1 if the agent reaches the goal and 0 otherwise.\n",
    "        done = terminated or truncated\n",
    "        frame = env.render()  # Render the current frame (optional).\n",
    "\n",
    "    success = info['success']  # Whether the agent reached the goal (0 or 1).\n",
    "                               # `terminated` also indicates this."
   ]
  },
  {
   "cell_type": "code",
   "execution_count": 1,
   "id": "105a44ad",
   "metadata": {},
   "outputs": [
    {
     "ename": "NameNotFound",
     "evalue": "Environment `pointmaze-navigate` doesn't exist. Did you mean: `pointmaze-large`?",
     "output_type": "error",
     "traceback": [
      "\u001b[31m---------------------------------------------------------------------------\u001b[39m",
      "\u001b[31mNameNotFound\u001b[39m                              Traceback (most recent call last)",
      "\u001b[36mCell\u001b[39m\u001b[36m \u001b[39m\u001b[32mIn[1]\u001b[39m\u001b[32m, line 5\u001b[39m\n\u001b[32m      3\u001b[39m \u001b[38;5;66;03m# Make an environment and load datasets.\u001b[39;00m\n\u001b[32m      4\u001b[39m dataset_name = \u001b[33m'\u001b[39m\u001b[33mpointmaze-large-navigate\u001b[39m\u001b[33m'\u001b[39m\n\u001b[32m----> \u001b[39m\u001b[32m5\u001b[39m env, train_dataset, val_dataset = \u001b[43mogbench\u001b[49m\u001b[43m.\u001b[49m\u001b[43mmake_env_and_datasets\u001b[49m\u001b[43m(\u001b[49m\n\u001b[32m      6\u001b[39m \u001b[43m    \u001b[49m\u001b[43mdataset_name\u001b[49m\u001b[43m,\u001b[49m\u001b[43m  \u001b[49m\u001b[38;5;66;43;03m# Dataset name.\u001b[39;49;00m\n\u001b[32m      7\u001b[39m \u001b[43m    \u001b[49m\u001b[43mdataset_dir\u001b[49m\u001b[43m=\u001b[49m\u001b[33;43m'\u001b[39;49m\u001b[33;43m~/.ogbench/data\u001b[39;49m\u001b[33;43m'\u001b[39;49m\u001b[43m,\u001b[49m\u001b[43m  \u001b[49m\u001b[38;5;66;43;03m# Directory to save datasets (optional).\u001b[39;49;00m\n\u001b[32m      8\u001b[39m \u001b[43m    \u001b[49m\u001b[43mcompact_dataset\u001b[49m\u001b[43m=\u001b[49m\u001b[38;5;28;43;01mFalse\u001b[39;49;00m\u001b[43m,\u001b[49m\u001b[43m  \u001b[49m\u001b[38;5;66;43;03m# Whether to use a compact dataset (optional; see below).\u001b[39;49;00m\n\u001b[32m      9\u001b[39m \u001b[43m)\u001b[49m\n\u001b[32m     11\u001b[39m \u001b[38;5;66;03m# Assume each dataset trajectory has a length of 4, and (s0, a0, s1), (s1, a1, s2),\u001b[39;00m\n\u001b[32m     12\u001b[39m \u001b[38;5;66;03m# (s2, a2, s3), (s3, a3, s4) are the transition tuples.\u001b[39;00m\n\u001b[32m     13\u001b[39m \u001b[38;5;66;03m# If `compact_dataset` is `False`, the dataset will have the following structure:\u001b[39;00m\n\u001b[32m   (...)\u001b[39m\u001b[32m     28\u001b[39m \u001b[38;5;66;03m# 'terminals'        : [ 0,  0,  0,  1,  1,  0,  0,  0,  1,  1, ...]\u001b[39;00m\n\u001b[32m     29\u001b[39m \u001b[38;5;66;03m# 'valids'           : [ 1,  1,  1,  1,  0,  1,  1,  1,  1,  0, ...]\u001b[39;00m\n",
      "\u001b[36mFile \u001b[39m\u001b[32m~/Documents/local_github_repos/ogrl_sb/ogrl_sb_arm64/lib/python3.11/site-packages/ogbench/utils.py:182\u001b[39m, in \u001b[36mmake_env_and_datasets\u001b[39m\u001b[34m(dataset_name, dataset_dir, dataset_path, compact_dataset, env_only, dataset_only, cur_env, add_info, **env_kwargs)\u001b[39m\n\u001b[32m    180\u001b[39m     env_name = \u001b[33m'\u001b[39m\u001b[33m-\u001b[39m\u001b[33m'\u001b[39m.join(splits[:-\u001b[32m2\u001b[39m] + splits[-\u001b[32m1\u001b[39m:])  \u001b[38;5;66;03m# Remove the dataset type.\u001b[39;00m\n\u001b[32m    181\u001b[39m     \u001b[38;5;28;01mif\u001b[39;00m \u001b[38;5;129;01mnot\u001b[39;00m dataset_only:\n\u001b[32m--> \u001b[39m\u001b[32m182\u001b[39m         env = \u001b[43mgymnasium\u001b[49m\u001b[43m.\u001b[49m\u001b[43mmake\u001b[49m\u001b[43m(\u001b[49m\u001b[43menv_name\u001b[49m\u001b[43m,\u001b[49m\u001b[43m \u001b[49m\u001b[43m*\u001b[49m\u001b[43m*\u001b[49m\u001b[43menv_kwargs\u001b[49m\u001b[43m)\u001b[49m\n\u001b[32m    184\u001b[39m \u001b[38;5;28;01mif\u001b[39;00m env_only:\n\u001b[32m    185\u001b[39m     \u001b[38;5;28;01mreturn\u001b[39;00m env\n",
      "\u001b[36mFile \u001b[39m\u001b[32m~/Documents/local_github_repos/ogrl_sb/ogrl_sb_arm64/lib/python3.11/site-packages/gymnasium/envs/registration.py:681\u001b[39m, in \u001b[36mmake\u001b[39m\u001b[34m(id, max_episode_steps, disable_env_checker, **kwargs)\u001b[39m\n\u001b[32m    678\u001b[39m     \u001b[38;5;28;01massert\u001b[39;00m \u001b[38;5;28misinstance\u001b[39m(\u001b[38;5;28mid\u001b[39m, \u001b[38;5;28mstr\u001b[39m)\n\u001b[32m    680\u001b[39m     \u001b[38;5;66;03m# The environment name can include an unloaded module in \"module:env_name\" style\u001b[39;00m\n\u001b[32m--> \u001b[39m\u001b[32m681\u001b[39m     env_spec = \u001b[43m_find_spec\u001b[49m\u001b[43m(\u001b[49m\u001b[38;5;28;43mid\u001b[39;49m\u001b[43m)\u001b[49m\n\u001b[32m    683\u001b[39m \u001b[38;5;28;01massert\u001b[39;00m \u001b[38;5;28misinstance\u001b[39m(env_spec, EnvSpec)\n\u001b[32m    685\u001b[39m \u001b[38;5;66;03m# Update the env spec kwargs with the `make` kwargs\u001b[39;00m\n",
      "\u001b[36mFile \u001b[39m\u001b[32m~/Documents/local_github_repos/ogrl_sb/ogrl_sb_arm64/lib/python3.11/site-packages/gymnasium/envs/registration.py:526\u001b[39m, in \u001b[36m_find_spec\u001b[39m\u001b[34m(env_id)\u001b[39m\n\u001b[32m    520\u001b[39m     logger.warn(\n\u001b[32m    521\u001b[39m         \u001b[33mf\u001b[39m\u001b[33m\"\u001b[39m\u001b[33mUsing the latest versioned environment `\u001b[39m\u001b[38;5;132;01m{\u001b[39;00mnew_env_id\u001b[38;5;132;01m}\u001b[39;00m\u001b[33m` \u001b[39m\u001b[33m\"\u001b[39m\n\u001b[32m    522\u001b[39m         \u001b[33mf\u001b[39m\u001b[33m\"\u001b[39m\u001b[33minstead of the unversioned environment `\u001b[39m\u001b[38;5;132;01m{\u001b[39;00menv_name\u001b[38;5;132;01m}\u001b[39;00m\u001b[33m`.\u001b[39m\u001b[33m\"\u001b[39m\n\u001b[32m    523\u001b[39m     )\n\u001b[32m    525\u001b[39m \u001b[38;5;28;01mif\u001b[39;00m env_spec \u001b[38;5;129;01mis\u001b[39;00m \u001b[38;5;28;01mNone\u001b[39;00m:\n\u001b[32m--> \u001b[39m\u001b[32m526\u001b[39m     \u001b[43m_check_version_exists\u001b[49m\u001b[43m(\u001b[49m\u001b[43mns\u001b[49m\u001b[43m,\u001b[49m\u001b[43m \u001b[49m\u001b[43mname\u001b[49m\u001b[43m,\u001b[49m\u001b[43m \u001b[49m\u001b[43mversion\u001b[49m\u001b[43m)\u001b[49m\n\u001b[32m    527\u001b[39m     \u001b[38;5;28;01mraise\u001b[39;00m error.Error(\n\u001b[32m    528\u001b[39m         \u001b[33mf\u001b[39m\u001b[33m\"\u001b[39m\u001b[33mNo registered env with id: \u001b[39m\u001b[38;5;132;01m{\u001b[39;00menv_name\u001b[38;5;132;01m}\u001b[39;00m\u001b[33m. Did you register it, or import the package that registers it? Use `gymnasium.pprint_registry()` to see all of the registered environments.\u001b[39m\u001b[33m\"\u001b[39m\n\u001b[32m    529\u001b[39m     )\n\u001b[32m    531\u001b[39m \u001b[38;5;28;01mreturn\u001b[39;00m env_spec\n",
      "\u001b[36mFile \u001b[39m\u001b[32m~/Documents/local_github_repos/ogrl_sb/ogrl_sb_arm64/lib/python3.11/site-packages/gymnasium/envs/registration.py:392\u001b[39m, in \u001b[36m_check_version_exists\u001b[39m\u001b[34m(ns, name, version)\u001b[39m\n\u001b[32m    389\u001b[39m \u001b[38;5;28;01mif\u001b[39;00m get_env_id(ns, name, version) \u001b[38;5;129;01min\u001b[39;00m registry:\n\u001b[32m    390\u001b[39m     \u001b[38;5;28;01mreturn\u001b[39;00m\n\u001b[32m--> \u001b[39m\u001b[32m392\u001b[39m \u001b[43m_check_name_exists\u001b[49m\u001b[43m(\u001b[49m\u001b[43mns\u001b[49m\u001b[43m,\u001b[49m\u001b[43m \u001b[49m\u001b[43mname\u001b[49m\u001b[43m)\u001b[49m\n\u001b[32m    393\u001b[39m \u001b[38;5;28;01mif\u001b[39;00m version \u001b[38;5;129;01mis\u001b[39;00m \u001b[38;5;28;01mNone\u001b[39;00m:\n\u001b[32m    394\u001b[39m     \u001b[38;5;28;01mreturn\u001b[39;00m\n",
      "\u001b[36mFile \u001b[39m\u001b[32m~/Documents/local_github_repos/ogrl_sb/ogrl_sb_arm64/lib/python3.11/site-packages/gymnasium/envs/registration.py:369\u001b[39m, in \u001b[36m_check_name_exists\u001b[39m\u001b[34m(ns, name)\u001b[39m\n\u001b[32m    366\u001b[39m namespace_msg = \u001b[33mf\u001b[39m\u001b[33m\"\u001b[39m\u001b[33m in namespace \u001b[39m\u001b[38;5;132;01m{\u001b[39;00mns\u001b[38;5;132;01m}\u001b[39;00m\u001b[33m\"\u001b[39m \u001b[38;5;28;01mif\u001b[39;00m ns \u001b[38;5;28;01melse\u001b[39;00m \u001b[33m\"\u001b[39m\u001b[33m\"\u001b[39m\n\u001b[32m    367\u001b[39m suggestion_msg = \u001b[33mf\u001b[39m\u001b[33m\"\u001b[39m\u001b[33m Did you mean: `\u001b[39m\u001b[38;5;132;01m{\u001b[39;00msuggestion[\u001b[32m0\u001b[39m]\u001b[38;5;132;01m}\u001b[39;00m\u001b[33m`?\u001b[39m\u001b[33m\"\u001b[39m \u001b[38;5;28;01mif\u001b[39;00m suggestion \u001b[38;5;28;01melse\u001b[39;00m \u001b[33m\"\u001b[39m\u001b[33m\"\u001b[39m\n\u001b[32m--> \u001b[39m\u001b[32m369\u001b[39m \u001b[38;5;28;01mraise\u001b[39;00m error.NameNotFound(\n\u001b[32m    370\u001b[39m     \u001b[33mf\u001b[39m\u001b[33m\"\u001b[39m\u001b[33mEnvironment `\u001b[39m\u001b[38;5;132;01m{\u001b[39;00mname\u001b[38;5;132;01m}\u001b[39;00m\u001b[33m` doesn\u001b[39m\u001b[33m'\u001b[39m\u001b[33mt exist\u001b[39m\u001b[38;5;132;01m{\u001b[39;00mnamespace_msg\u001b[38;5;132;01m}\u001b[39;00m\u001b[33m.\u001b[39m\u001b[38;5;132;01m{\u001b[39;00msuggestion_msg\u001b[38;5;132;01m}\u001b[39;00m\u001b[33m\"\u001b[39m\n\u001b[32m    371\u001b[39m )\n",
      "\u001b[31mNameNotFound\u001b[39m: Environment `pointmaze-navigate` doesn't exist. Did you mean: `pointmaze-large`?"
     ]
    }
   ],
   "source": [
    "import ogbench\n",
    "\n",
    "# Make an environment and load datasets.\n",
    "dataset_name = 'pointmaze-large-navigate'\n",
    "env, train_dataset, val_dataset = ogbench.make_env_and_datasets(\n",
    "    dataset_name,  # Dataset name.\n",
    "    dataset_dir='~/.ogbench/data',  # Directory to save datasets (optional).\n",
    "    compact_dataset=False,  # Whether to use a compact dataset (optional; see below).\n",
    ")\n",
    "\n",
    "# Assume each dataset trajectory has a length of 4, and (s0, a0, s1), (s1, a1, s2),\n",
    "# (s2, a2, s3), (s3, a3, s4) are the transition tuples.\n",
    "# If `compact_dataset` is `False`, the dataset will have the following structure:\n",
    "#                       |<- traj 1 ->|  |<- traj 2 ->|  ...\n",
    "# ----------------------------------------------------------\n",
    "# 'observations'     : [s0, s1, s2, s3, s0, s1, s2, s3, ...]\n",
    "# 'actions'          : [a0, a1, a2, a3, a0, a1, a2, a3, ...]\n",
    "# 'next_observations': [s1, s2, s3, s4, s1, s2, s3, s4, ...]\n",
    "# 'terminals'        : [ 0,  0,  0,  1,  0,  0,  0,  1, ...]\n",
    "\n",
    "# If `compact_dataset` is `True`, the dataset will have the following structure, where the\n",
    "# `next_observations` field is omitted. Instead, it includes a `valids` field indicating\n",
    "# whether the next observation is valid:\n",
    "#                       |<--- traj 1 --->|  |<--- traj 2 --->|  ...\n",
    "# ------------------------------------------------------------------\n",
    "# 'observations'     : [s0, s1, s2, s3, s4, s0, s1, s2, s3, s4, ...]\n",
    "# 'actions'          : [a0, a1, a2, a3, a4, a0, a1, a2, a3, a4, ...]\n",
    "# 'terminals'        : [ 0,  0,  0,  1,  1,  0,  0,  0,  1,  1, ...]\n",
    "# 'valids'           : [ 1,  1,  1,  1,  0,  1,  1,  1,  1,  0, ...]"
   ]
  },
  {
   "cell_type": "code",
   "execution_count": null,
   "id": "bba53b3a",
   "metadata": {},
   "outputs": [
    {
     "name": "stdout",
     "output_type": "stream",
     "text": [
      "Downloading dataset from: https://rail.eecs.berkeley.edu/datasets/ogbench/antmaze-large-navigate-v0.npz\n"
     ]
    },
    {
     "name": "stderr",
     "output_type": "stream",
     "text": [
      "antmaze-large-navigate-v0.npz:  55%|████▉    | 128M/232M [04:01<04:16, 422kB/s]"
     ]
    }
   ],
   "source": [
    "import ogbench\n",
    "\n",
    "# Make an environment and load datasets.\n",
    "dataset_name = 'antmaze-large-navigate-v0'\n",
    "env, train_dataset, val_dataset = ogbench.make_env_and_datasets(\n",
    "    dataset_name,  # Dataset name.\n",
    "    dataset_dir='~/.ogbench/data',  # Directory to save datasets (optional).\n",
    "    compact_dataset=False,  # Whether to use a compact dataset (optional; see below).\n",
    ")\n",
    "\n",
    "# Assume each dataset trajectory has a length of 4, and (s0, a0, s1), (s1, a1, s2),\n",
    "# (s2, a2, s3), (s3, a3, s4) are the transition tuples.\n",
    "# If `compact_dataset` is `False`, the dataset will have the following structure:\n",
    "#                       |<- traj 1 ->|  |<- traj 2 ->|  ...\n",
    "# ----------------------------------------------------------\n",
    "# 'observations'     : [s0, s1, s2, s3, s0, s1, s2, s3, ...]\n",
    "# 'actions'          : [a0, a1, a2, a3, a0, a1, a2, a3, ...]\n",
    "# 'next_observations': [s1, s2, s3, s4, s1, s2, s3, s4, ...]\n",
    "# 'terminals'        : [ 0,  0,  0,  1,  0,  0,  0,  1, ...]\n",
    "\n",
    "# If `compact_dataset` is `True`, the dataset will have the following structure, where the\n",
    "# `next_observations` field is omitted. Instead, it includes a `valids` field indicating\n",
    "# whether the next observation is valid:\n",
    "#                       |<--- traj 1 --->|  |<--- traj 2 --->|  ...\n",
    "# ------------------------------------------------------------------\n",
    "# 'observations'     : [s0, s1, s2, s3, s4, s0, s1, s2, s3, s4, ...]\n",
    "# 'actions'          : [a0, a1, a2, a3, a4, a0, a1, a2, a3, a4, ...]\n",
    "# 'terminals'        : [ 0,  0,  0,  1,  1,  0,  0,  0,  1,  1, ...]\n",
    "# 'valids'           : [ 1,  1,  1,  1,  0,  1,  1,  1,  1,  0, ...]"
   ]
  },
  {
   "cell_type": "code",
   "execution_count": null,
   "id": "2972a5f6",
   "metadata": {},
   "outputs": [],
   "source": []
  }
 ],
 "metadata": {
  "kernelspec": {
   "display_name": "Python 3 (ipykernel)",
   "language": "python",
   "name": "python3"
  },
  "language_info": {
   "codemirror_mode": {
    "name": "ipython",
    "version": 3
   },
   "file_extension": ".py",
   "mimetype": "text/x-python",
   "name": "python",
   "nbconvert_exporter": "python",
   "pygments_lexer": "ipython3",
   "version": "3.11.13"
  }
 },
 "nbformat": 4,
 "nbformat_minor": 5
}
